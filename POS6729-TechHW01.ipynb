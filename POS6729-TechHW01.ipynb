{
 "cells": [
  {
   "cell_type": "code",
   "execution_count": 1,
   "metadata": {},
   "outputs": [],
   "source": [
    "#First, we need to tell python that we want to import specific packages (bits of code) that allow us then to perform specific operations\n",
    "#Networkx is used for network analysis\n",
    "import networkx as nx \n",
    "# Data Visualisation library in Python\n",
    "import matplotlib.pyplot as plt\n",
    "# Python pakage for numerical processing\n",
    "import numpy as np\n",
    "# Python package to change directory\n",
    "import os\n",
    "#change the directory to where you have the files you will need to use\n",
    "os.chdir('/Users/brucemiller/Google Drive/UCF Courses/POS6729-Political Network Analysis/JupyterNotebooks')\n"
   ]
  },
  {
   "cell_type": "code",
   "execution_count": 6,
   "metadata": {},
   "outputs": [
    {
     "name": "stdout",
     "output_type": "stream",
     "text": [
      "The answer is  2\n"
     ]
    }
   ],
   "source": [
    "# Exercise 1: Input data a) x=1, y = 1, b) x=2, y=1\n",
    "# a\n",
    "x = 1\n",
    "y = 1\n",
    "if x != y:\n",
    "    a = 1\n",
    "else:\n",
    "    a = 2\n",
    "print('The answer is ', a)"
   ]
  },
  {
   "cell_type": "code",
   "execution_count": 7,
   "metadata": {},
   "outputs": [
    {
     "name": "stdout",
     "output_type": "stream",
     "text": [
      "The answer is  1\n"
     ]
    }
   ],
   "source": [
    "# b\n",
    "x = 2\n",
    "y = 1\n",
    "if x != y:\n",
    "    a = 1\n",
    "else:\n",
    "    a = 2\n",
    "print('The answer is ', a)"
   ]
  },
  {
   "cell_type": "code",
   "execution_count": 12,
   "metadata": {},
   "outputs": [
    {
     "name": "stdout",
     "output_type": "stream",
     "text": [
      "x =  10 y =  3.9375\n"
     ]
    }
   ],
   "source": [
    "#Exercise2 Input y = 1, x = 1\n",
    "x = 1\n",
    "y = 1\n",
    "while x < 10:\n",
    "    if x % 2 == 1: #x is odd, because modulus is 1\n",
    "        y = y + 2\n",
    "    else:\n",
    "        y = y / 2\n",
    "    x = x + 1 # increment x\n",
    "print('x = ', x,'y = ',y)"
   ]
  },
  {
   "cell_type": "code",
   "execution_count": 15,
   "metadata": {},
   "outputs": [
    {
     "name": "stdout",
     "output_type": "stream",
     "text": [
      "a =  1 b =  5 c =  6 z =  0\n"
     ]
    }
   ],
   "source": [
    "#Exercise 3 \n",
    "a = 1\n",
    "b = 5\n",
    "c = 6\n",
    "z = 0\n",
    "if a == 1:\n",
    "    if c == 5:\n",
    "        z = b\n",
    "else:\n",
    "    z = a + c\n",
    "print ('a = ',a,'b = ', b,'c = ', c, 'z = ',z)"
   ]
  },
  {
   "cell_type": "code",
   "execution_count": 16,
   "metadata": {},
   "outputs": [
    {
     "name": "stdout",
     "output_type": "stream",
     "text": [
      "a =  1 b =  7 c =  5 z =  7\n"
     ]
    }
   ],
   "source": [
    "#Exercise 3 \n",
    "a = 1\n",
    "b = 7\n",
    "c = 5\n",
    "z = 0\n",
    "if a == 1:\n",
    "    if c == 5:\n",
    "        z = b\n",
    "else:\n",
    "    z = a + c\n",
    "print ('a = ',a,'b = ', b,'c = ', c, 'z = ',z)"
   ]
  },
  {
   "cell_type": "code",
   "execution_count": 21,
   "metadata": {},
   "outputs": [
    {
     "name": "stdout",
     "output_type": "stream",
     "text": [
      "x =  22\n"
     ]
    }
   ],
   "source": [
    "#Exercise 4\n",
    "mylist = [1,2,5,10]\n",
    "x = 0\n",
    "for i in mylist:\n",
    "    if i % 2 == 1: # if element is odd\n",
    "        x = x + 1\n",
    "    else:  # if element is even\n",
    "        x = x + 10\n",
    "print('x = ',x)"
   ]
  },
  {
   "cell_type": "code",
   "execution_count": null,
   "metadata": {},
   "outputs": [],
   "source": []
  },
  {
   "cell_type": "code",
   "execution_count": null,
   "metadata": {},
   "outputs": [],
   "source": []
  }
 ],
 "metadata": {
  "kernelspec": {
   "display_name": "Python 3",
   "language": "python",
   "name": "python3"
  },
  "language_info": {
   "codemirror_mode": {
    "name": "ipython",
    "version": 3
   },
   "file_extension": ".py",
   "mimetype": "text/x-python",
   "name": "python",
   "nbconvert_exporter": "python",
   "pygments_lexer": "ipython3",
   "version": "3.8.3"
  }
 },
 "nbformat": 4,
 "nbformat_minor": 4
}
